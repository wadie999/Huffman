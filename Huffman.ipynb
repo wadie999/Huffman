{
 "cells": [
  {
   "cell_type": "code",
   "execution_count": 3,
   "id": "9cce43d4",
   "metadata": {},
   "outputs": [],
   "source": [
    "def construit_liste_ss_arbres_caracteres_nombres(fichier, affiche = True):\n",
    "    \"\"\"Pour chaque caractère c du fichier, construit une liste :\n",
    "    [(c,n), None, None] où n est le nombre de fois que c est présent dans le\n",
    "    fichier. Une telle liste sera vue plus tard comme une feuille.\n",
    "    Si affiche == True, afficher les paires (c,n) dans l'ordre croissant de n.\n",
    "    \"\"\"\n",
    "    L = []\n",
    "    dico = {}\n",
    "    with open(fichier, \"r\", encoding=\"utf-8\") as f:\n",
    "        for line in f:\n",
    "            for c in line:\n",
    "                if c in dico:\n",
    "                    dico[c] += 1\n",
    "                else:\n",
    "                    dico[c] = 1\n",
    "\n",
    "    for i in dico.keys():\n",
    "        l = []\n",
    "        l.append((i, dico[i]))\n",
    "        l.append(None)\n",
    "        l.append(None)\n",
    "        L.append(l)\n",
    "        \n",
    "    L.sort(key = lambda tup: tup[0][1])\n",
    "\n",
    "    if affiche:\n",
    "        print(L)\n",
    "    return L\n"
   ]
  },
  {
   "cell_type": "code",
   "execution_count": 4,
   "id": "f6bfe3bf",
   "metadata": {},
   "outputs": [
    {
     "name": "stdout",
     "output_type": "stream",
     "text": [
      "[[('V', 1), None, None], [('l', 1), None, None], [('t', 1), None, None], [('è', 1), None, None], [('à', 1), None, None], [(':', 1), None, None], [('!', 1), None, None], [('=', 1), None, None], [('2', 1), None, None], [('o', 2), None, None], [('i', 2), None, None], [('q', 2), None, None], [('u', 2), None, None], [('s', 2), None, None], [('d', 2), None, None], [('€', 2), None, None], [('4', 2), None, None], [('a', 3), None, None], [('r', 3), None, None], [('b', 3), None, None], [('e', 4), None, None], [('\\n', 5), None, None], [('c', 7), None, None], [(' ', 8), None, None]]\n"
     ]
    },
    {
     "data": {
      "text/plain": [
       "[[('V', 1), None, None],\n",
       " [('l', 1), None, None],\n",
       " [('t', 1), None, None],\n",
       " [('è', 1), None, None],\n",
       " [('à', 1), None, None],\n",
       " [(':', 1), None, None],\n",
       " [('!', 1), None, None],\n",
       " [('=', 1), None, None],\n",
       " [('2', 1), None, None],\n",
       " [('o', 2), None, None],\n",
       " [('i', 2), None, None],\n",
       " [('q', 2), None, None],\n",
       " [('u', 2), None, None],\n",
       " [('s', 2), None, None],\n",
       " [('d', 2), None, None],\n",
       " [('€', 2), None, None],\n",
       " [('4', 2), None, None],\n",
       " [('a', 3), None, None],\n",
       " [('r', 3), None, None],\n",
       " [('b', 3), None, None],\n",
       " [('e', 4), None, None],\n",
       " [('\\n', 5), None, None],\n",
       " [('c', 7), None, None],\n",
       " [(' ', 8), None, None]]"
      ]
     },
     "execution_count": 4,
     "metadata": {},
     "output_type": "execute_result"
    }
   ],
   "source": [
    "construit_liste_ss_arbres_caracteres_nombres('fichier_huffman.txt', affiche = True)"
   ]
  },
  {
   "cell_type": "code",
   "execution_count": 5,
   "id": "ece0d961",
   "metadata": {},
   "outputs": [],
   "source": [
    "def construit_arbre_huffman_depuis_liste(liste_car_nbre):\n",
    "    \"\"\"À partir de la liste composée de listes du type [(c,n), None, None],\n",
    "    construit et retourne l'arbre de Huffman suivant l'algorithme classique.\n",
    "    Le résultat (l'arbre) est une liste composée de listes du type :\n",
    "    [(c,n), a_1, a_2] avec :\n",
    "    + n un entier.\n",
    "    + c un caractère ; dans un cas a_1 et a_2 sont None et c'est une feuille\n",
    "        ou c est None ; dans l'autre cas c'est un noeud interne et a_1 et a_2 sont\n",
    "        des sous-arbres. Par convention, a_1 est le sous-arbre gauche codant 0\n",
    "        et a_2 le sous-arbre droit codant 1.\"\"\"\n",
    "    arbre = liste_car_nbre\n",
    "    while len(arbre) > 1:\n",
    "        # Retirer les 2 noeuds ayant les plus petites valeurs n\n",
    "        a_1 = min(arbre, key=lambda noeud: noeud[0][1])\n",
    "        arbre.remove(a_1)\n",
    "        a_2 = min(arbre, key=lambda noeud: noeud[0][1])\n",
    "        arbre.remove(a_2)\n",
    "        # a_1 et a_2 deviennent sous-arbres d'un nouveau noeud, somme des 2\n",
    "        a_nouveau = (None, a_1[0][1] + a_2[0][1])\n",
    "        arbre.append([a_nouveau, a_1, a_2])\n",
    "    return arbre[0]\n"
   ]
  },
  {
   "cell_type": "code",
   "execution_count": 6,
   "id": "d5e4e2e4",
   "metadata": {},
   "outputs": [],
   "source": [
    "def construit_table_codage_depuis_arbre_huffman(arbre):\n",
    "    \"\"\"Construit la table de codage à partir de l'arbre de Huffman.\n",
    "    Le resultat est un dictionnaire dont les clés sont les caractères et les\n",
    "    valeurs sont les codes binaires correspondant issus de l'arbre. Un code\n",
    "    binaire est retourné ici sous forme de chaine de cararctères de '0' et '1'.\n",
    "    \"\"\"\n",
    "    def iter_rec_chaines_binaires(arbre, chaine_courante):\n",
    "        if arbre[1] == None and arbre[2] == None: # feuille\n",
    "            yield arbre[0][0], chaine_courante\n",
    "        else:\n",
    "            yield from iter_rec_chaines_binaires(arbre[1], chaine_courante + \"0\")\n",
    "            yield from iter_rec_chaines_binaires(arbre[2], chaine_courante + \"1\")\n",
    "\n",
    "    table = {}\n",
    "    it = iter_rec_chaines_binaires(arbre, \"\")\n",
    "    for (car, chaine) in it:\n",
    "        table[car] = chaine\n",
    "    return table"
   ]
  },
  {
   "cell_type": "code",
   "execution_count": 7,
   "id": "cedacbe1",
   "metadata": {},
   "outputs": [],
   "source": [
    "def code_fichier(fichier, table_codage):\n",
    "    \"\"\"Code chaque caractère du fichier avec la table de codage dont les clés\n",
    "    sont les caractères et les valeurs les codes binaires sous forme de chaines\n",
    "    de '0' et de '1'.\n",
    "    Le résultat est une chaine de caractères de '0' et de '1'.\"\"\"\n",
    "    result = \"\"\n",
    "    with open(fichier, \"r\", encoding=\"utf8\") as f:\n",
    "        for ligne in f:\n",
    "            result += \"\".join([table_codage[car] for car in ligne])\n",
    "    return result"
   ]
  },
  {
   "cell_type": "code",
   "execution_count": 8,
   "id": "34c36cab",
   "metadata": {},
   "outputs": [],
   "source": [
    "def decode_message(message_binaire, arbre):\n",
    "    \"\"\"Prend en entrée une chaine de caractères de '0' et de '1' (message codé)\n",
    "    + un arbre de huffman. Retourne le décodage sous forme d'une chaine de\n",
    "    caractères.\"\"\"\n",
    "    result = \"\"\n",
    "    sous_arbre = arbre\n",
    "    for x in message_binaire:\n",
    "        if x == '0':\n",
    "            sous_arbre = sous_arbre[1]\n",
    "            if sous_arbre[1] == None and sous_arbre[2] == None:\n",
    "                result += sous_arbre[0][0]\n",
    "                sous_arbre = arbre\n",
    "        elif x == '1':\n",
    "            sous_arbre = sous_arbre[2]\n",
    "            if sous_arbre[1] == None and sous_arbre[2] == None:\n",
    "                result += sous_arbre[0][0]\n",
    "                sous_arbre = arbre\n",
    "    return result"
   ]
  },
  {
   "cell_type": "code",
   "execution_count": 10,
   "id": "ddaaa160",
   "metadata": {},
   "outputs": [
    {
     "name": "stdout",
     "output_type": "stream",
     "text": [
      "Le message codé est :\n",
      "11011001101101000101010010010101101100111110111101011011001111011110001000010010000101011100011100100100111101111001110101000100110111000011100101001110111111111100010011110011100010011001001100110101111010010111111111101000000100000011000110011010\n",
      "------------------------------\n",
      "La taille du message codé est de : 248 bits, soit 31.0 octets.\n",
      "------------------------------\n",
      "Le message décodé est : \n",
      "Voici quelques caractères à coder :\n",
      "\n",
      "ab€d €bbc\n",
      "cc\n",
      "\n",
      "4! = 24\n"
     ]
    }
   ],
   "source": [
    "#----- Manipulations de ces fonctions.\n",
    "# Partie codage du fichier :\n",
    "fichier = \"FICHIER_ESSAI_HUFFMAN.py\"\n",
    "#fichier = \"Codage-Huffman-Simple.py\" # Pour coder le fichier source lui-même.\n",
    "liste_feuilles = construit_liste_ss_arbres_caracteres_nombres(fichier, False)\n",
    "arbre = construit_arbre_huffman_depuis_liste(liste_feuilles)\n",
    "table = construit_table_codage_depuis_arbre_huffman(arbre)\n",
    "message_codé = code_fichier(fichier, table) # Codage Huffman en bin. du fichier \n",
    "\n",
    "print(f\"Le message codé est :\\n{message_codé}\")\n",
    "print(10*\"---\")\n",
    "print(f\"La taille du message codé est de : {len(message_codé)} bits, soit \" +\n",
    "      f\"{len(message_codé)/8} octets.\")\n",
    "print(10*\"---\")\n",
    "\n",
    "# Partie décodage :\n",
    "\n",
    "message_décodé = decode_message(message_codé, arbre)\n",
    "print(f\"Le message décodé est : \\n{message_décodé}\")\n"
   ]
  },
  {
   "cell_type": "code",
   "execution_count": null,
   "id": "b2f116e8",
   "metadata": {},
   "outputs": [],
   "source": []
  }
 ],
 "metadata": {
  "kernelspec": {
   "display_name": "Python 3 (ipykernel)",
   "language": "python",
   "name": "python3"
  },
  "language_info": {
   "codemirror_mode": {
    "name": "ipython",
    "version": 3
   },
   "file_extension": ".py",
   "mimetype": "text/x-python",
   "name": "python",
   "nbconvert_exporter": "python",
   "pygments_lexer": "ipython3",
   "version": "3.11.0rc2"
  }
 },
 "nbformat": 4,
 "nbformat_minor": 5
}
